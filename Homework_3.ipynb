{
 "cells": [
  {
   "cell_type": "markdown",
   "id": "097878f4",
   "metadata": {},
   "source": [
    "# Домашнее задание к занятию\n",
    "## \"Классификация: Логистическая регрессия и SVM\""
   ]
  },
  {
   "cell_type": "markdown",
   "id": "2634d486",
   "metadata": {},
   "source": [
    "Посчитать TPR и FPR в ноутбуке к лекции. Убедиться, что график ROC AUC получается таким же, как и штатными средствами.\n",
    "\n",
    "Построить график Precision - Recall на этих же данных."
   ]
  },
  {
   "cell_type": "code",
   "execution_count": 1,
   "id": "479c965c",
   "metadata": {},
   "outputs": [],
   "source": [
    "# Загружаем необходимые библиотеки\n",
    "import pandas as pd\n",
    "from sklearn.model_selection import train_test_split\n",
    "from sklearn.linear_model import LogisticRegression\n",
    "from sklearn import metrics\n",
    "import numpy as np\n",
    "import matplotlib.pyplot as plt"
   ]
  },
  {
   "cell_type": "code",
   "execution_count": 2,
   "id": "0f252da9",
   "metadata": {},
   "outputs": [
    {
     "data": {
      "text/html": [
       "<div>\n",
       "<style scoped>\n",
       "    .dataframe tbody tr th:only-of-type {\n",
       "        vertical-align: middle;\n",
       "    }\n",
       "\n",
       "    .dataframe tbody tr th {\n",
       "        vertical-align: top;\n",
       "    }\n",
       "\n",
       "    .dataframe thead th {\n",
       "        text-align: right;\n",
       "    }\n",
       "</style>\n",
       "<table border=\"1\" class=\"dataframe\">\n",
       "  <thead>\n",
       "    <tr style=\"text-align: right;\">\n",
       "      <th></th>\n",
       "      <th>rate_marriage</th>\n",
       "      <th>age</th>\n",
       "      <th>yrs_married</th>\n",
       "      <th>children</th>\n",
       "      <th>religious</th>\n",
       "      <th>educ</th>\n",
       "      <th>occupation</th>\n",
       "      <th>occupation_husb</th>\n",
       "      <th>affair</th>\n",
       "    </tr>\n",
       "  </thead>\n",
       "  <tbody>\n",
       "    <tr>\n",
       "      <th>0</th>\n",
       "      <td>3.0</td>\n",
       "      <td>32.0</td>\n",
       "      <td>9.0</td>\n",
       "      <td>3.0</td>\n",
       "      <td>3.0</td>\n",
       "      <td>17.0</td>\n",
       "      <td>2.0</td>\n",
       "      <td>5.0</td>\n",
       "      <td>1</td>\n",
       "    </tr>\n",
       "    <tr>\n",
       "      <th>1</th>\n",
       "      <td>3.0</td>\n",
       "      <td>27.0</td>\n",
       "      <td>13.0</td>\n",
       "      <td>3.0</td>\n",
       "      <td>1.0</td>\n",
       "      <td>14.0</td>\n",
       "      <td>3.0</td>\n",
       "      <td>4.0</td>\n",
       "      <td>1</td>\n",
       "    </tr>\n",
       "    <tr>\n",
       "      <th>2</th>\n",
       "      <td>4.0</td>\n",
       "      <td>22.0</td>\n",
       "      <td>2.5</td>\n",
       "      <td>0.0</td>\n",
       "      <td>1.0</td>\n",
       "      <td>16.0</td>\n",
       "      <td>3.0</td>\n",
       "      <td>5.0</td>\n",
       "      <td>1</td>\n",
       "    </tr>\n",
       "    <tr>\n",
       "      <th>3</th>\n",
       "      <td>4.0</td>\n",
       "      <td>37.0</td>\n",
       "      <td>16.5</td>\n",
       "      <td>4.0</td>\n",
       "      <td>3.0</td>\n",
       "      <td>16.0</td>\n",
       "      <td>5.0</td>\n",
       "      <td>5.0</td>\n",
       "      <td>1</td>\n",
       "    </tr>\n",
       "    <tr>\n",
       "      <th>4</th>\n",
       "      <td>5.0</td>\n",
       "      <td>27.0</td>\n",
       "      <td>9.0</td>\n",
       "      <td>1.0</td>\n",
       "      <td>1.0</td>\n",
       "      <td>14.0</td>\n",
       "      <td>3.0</td>\n",
       "      <td>4.0</td>\n",
       "      <td>1</td>\n",
       "    </tr>\n",
       "  </tbody>\n",
       "</table>\n",
       "</div>"
      ],
      "text/plain": [
       "   rate_marriage   age  yrs_married  children  religious  educ  occupation  \\\n",
       "0            3.0  32.0          9.0       3.0        3.0  17.0         2.0   \n",
       "1            3.0  27.0         13.0       3.0        1.0  14.0         3.0   \n",
       "2            4.0  22.0          2.5       0.0        1.0  16.0         3.0   \n",
       "3            4.0  37.0         16.5       4.0        3.0  16.0         5.0   \n",
       "4            5.0  27.0          9.0       1.0        1.0  14.0         3.0   \n",
       "\n",
       "   occupation_husb  affair  \n",
       "0              5.0       1  \n",
       "1              4.0       1  \n",
       "2              5.0       1  \n",
       "3              5.0       1  \n",
       "4              4.0       1  "
      ]
     },
     "execution_count": 2,
     "metadata": {},
     "output_type": "execute_result"
    }
   ],
   "source": [
    "# Загружаем датасет\n",
    "affair_data = pd.read_csv('affair_data.csv')\n",
    "affair_data.head()"
   ]
  },
  {
   "cell_type": "code",
   "execution_count": 3,
   "id": "2f568df7",
   "metadata": {},
   "outputs": [
    {
     "name": "stdout",
     "output_type": "stream",
     "text": [
      "<class 'pandas.core.frame.DataFrame'>\n",
      "RangeIndex: 6366 entries, 0 to 6365\n",
      "Data columns (total 9 columns):\n",
      " #   Column           Non-Null Count  Dtype  \n",
      "---  ------           --------------  -----  \n",
      " 0   rate_marriage    6366 non-null   float64\n",
      " 1   age              6366 non-null   float64\n",
      " 2   yrs_married      6366 non-null   float64\n",
      " 3   children         6366 non-null   float64\n",
      " 4   religious        6366 non-null   float64\n",
      " 5   educ             6366 non-null   float64\n",
      " 6   occupation       6366 non-null   float64\n",
      " 7   occupation_husb  6366 non-null   float64\n",
      " 8   affair           6366 non-null   int64  \n",
      "dtypes: float64(8), int64(1)\n",
      "memory usage: 447.7 KB\n"
     ]
    }
   ],
   "source": [
    "# Получаем основную информацию о данных в датасете\n",
    "affair_data.info()"
   ]
  },
  {
   "cell_type": "markdown",
   "id": "4a54c6a1",
   "metadata": {},
   "source": [
    "Пропущенные значения отсутствуют."
   ]
  },
  {
   "cell_type": "code",
   "execution_count": 4,
   "id": "8563438c",
   "metadata": {},
   "outputs": [],
   "source": [
    "# Формируем набор признаков и целевую переменную\n",
    "X = affair_data[affair_data.columns[:-1]]\n",
    "y = affair_data['affair']"
   ]
  },
  {
   "cell_type": "code",
   "execution_count": 5,
   "id": "14264cab",
   "metadata": {},
   "outputs": [
    {
     "data": {
      "text/plain": [
       "0    4313\n",
       "1    2053\n",
       "Name: affair, dtype: int64"
      ]
     },
     "execution_count": 5,
     "metadata": {},
     "output_type": "execute_result"
    }
   ],
   "source": [
    "# Получаем информацию о распределении значений целевой переменной.\n",
    "affair_data['affair'].value_counts()"
   ]
  },
  {
   "cell_type": "markdown",
   "id": "866c4d48",
   "metadata": {},
   "source": [
    "Целевая переменная содержит два значения: 0 и 1. Требуется осуществить бинарную классификацию."
   ]
  },
  {
   "cell_type": "code",
   "execution_count": 6,
   "id": "ddbc23c8",
   "metadata": {},
   "outputs": [],
   "source": [
    "# Составляем моель логистической регрессии\n",
    "model = LogisticRegression()"
   ]
  },
  {
   "cell_type": "code",
   "execution_count": 7,
   "id": "92010c84",
   "metadata": {},
   "outputs": [],
   "source": [
    "# Делим данные на обучающие и тестовые\n",
    "X_train, X_test, y_train, y_test = train_test_split(X, y, test_size = 0.3, random_state = 42)"
   ]
  },
  {
   "cell_type": "code",
   "execution_count": 8,
   "id": "b164e779",
   "metadata": {},
   "outputs": [
    {
     "data": {
      "text/plain": [
       "LogisticRegression()"
      ]
     },
     "execution_count": 8,
     "metadata": {},
     "output_type": "execute_result"
    }
   ],
   "source": [
    "# Обучаем модель\n",
    "model.fit(X_train, y_train)"
   ]
  },
  {
   "cell_type": "code",
   "execution_count": 9,
   "id": "e9291a37",
   "metadata": {},
   "outputs": [
    {
     "data": {
      "text/plain": [
       "array([[0.64685183, 0.35314817],\n",
       "       [0.41783309, 0.58216691]])"
      ]
     },
     "execution_count": 9,
     "metadata": {},
     "output_type": "execute_result"
    }
   ],
   "source": [
    "# Строим предсказание модели\n",
    "predictions = model.predict_proba(X_test)\n",
    "predictions[:2]"
   ]
  },
  {
   "cell_type": "code",
   "execution_count": 10,
   "id": "aa58dab6",
   "metadata": {},
   "outputs": [
    {
     "data": {
      "text/plain": [
       "0.7219895287958115"
      ]
     },
     "execution_count": 10,
     "metadata": {},
     "output_type": "execute_result"
    }
   ],
   "source": [
    "# Определяем качество полученной модели на тестовой выборке\n",
    "model.score(X_test,y_test)"
   ]
  },
  {
   "cell_type": "code",
   "execution_count": 11,
   "id": "62dbad5a",
   "metadata": {},
   "outputs": [],
   "source": [
    "# Находим FPR и TPR, используя встроенные функции\n",
    "fpr, tpr, thresholds = metrics.roc_curve(y_test, predictions[:, 1])"
   ]
  },
  {
   "cell_type": "code",
   "execution_count": 12,
   "id": "55e85fb3",
   "metadata": {},
   "outputs": [],
   "source": [
    "# Вычисляем самостоятельно значения TP, FP, TN, FN\n",
    "my_fpr = []\n",
    "my_tpr = []\n",
    "for item in np.sort(predictions[:, 1]):\n",
    "    tp = 0 # True positive\n",
    "    fp = 0 # False positive\n",
    "    fn = 0 # False negative\n",
    "    tn = 0 # True negative   \n",
    "    for predicted, actual in zip(predictions[:, 1], y_test):\n",
    "        if predicted >= item:\n",
    "            new_pred = 1\n",
    "        else:\n",
    "            new_pred = 0\n",
    "        if new_pred == 1:\n",
    "            if actual ==1:\n",
    "                tp += 1\n",
    "            else:\n",
    "                fp += 1\n",
    "        else:\n",
    "            if actual == 1:\n",
    "                fn += 1\n",
    "            else:\n",
    "                tn += 1\n",
    "    my_fpr.append(fp / (fp + tn))\n",
    "    my_tpr.append(tp / (tp + fn))"
   ]
  },
  {
   "cell_type": "code",
   "execution_count": 13,
   "id": "925dc119",
   "metadata": {},
   "outputs": [
    {
     "data": {
      "text/plain": [
       "(0.0, 1.0)"
      ]
     },
     "execution_count": 13,
     "metadata": {},
     "output_type": "execute_result"
    },
    {
     "data": {
      "image/png": "[encoded data removed]",
      "text/plain": [
       "<Figure size 432x288 with 1 Axes>"
      ]
     },
     "metadata": {
      "needs_background": "light"
     },
     "output_type": "display_data"
    }
   ],
   "source": [
    "# Строим графики ROC AUC по вычисленным самостоятельно значениям и по значениям, полученным встроенным методом\n",
    "plt.plot(my_fpr, my_tpr, color='blue')\n",
    "plt.plot(fpr, tpr, color='red', linestyle='--')\n",
    "plt.grid()\n",
    "plt.xlim(0,1)\n",
    "plt.ylim(0,1)"
   ]
  },
  {
   "cell_type": "markdown",
   "id": "71c2eee1",
   "metadata": {},
   "source": [
    "Найденные самостоятельно значения FPR и TPR полностью совпадают со значениями, найденными при использовании встроенной функции."
   ]
  },
  {
   "cell_type": "code",
   "execution_count": 14,
   "id": "cc2c37e8",
   "metadata": {},
   "outputs": [],
   "source": [
    "# Вычисляем Precision и Recall встроенным методом\n",
    "pr, re, thres = metrics.precision_recall_curve(y_test, predictions[:, 1] )"
   ]
  },
  {
   "cell_type": "code",
   "execution_count": 15,
   "id": "6c522495",
   "metadata": {},
   "outputs": [],
   "source": [
    "# Вычисляем самостоятельно Precision и Recall\n",
    "my_pr = []\n",
    "my_re = []\n",
    "for item in np.sort(predictions[:, 1]):\n",
    "    tp = 0 # True positive\n",
    "    fp = 0 # False positive\n",
    "    fn = 0 # False negative    \n",
    "    for predicted, actual in zip(predictions[:, 1], y_test):\n",
    "        if predicted >= item:\n",
    "            new_pred = 1\n",
    "        else:\n",
    "            new_pred = 0\n",
    "        if new_pred == 1:\n",
    "            if actual ==1:\n",
    "                tp += 1\n",
    "            else:\n",
    "                fp += 1\n",
    "        else:\n",
    "            if actual == 1:\n",
    "                fn += 1\n",
    "    my_pr.append(tp / (tp + fp))\n",
    "    my_re.append(tp / (tp + fn))"
   ]
  },
  {
   "cell_type": "code",
   "execution_count": 16,
   "id": "d6fd82de",
   "metadata": {},
   "outputs": [
    {
     "data": {
      "text/plain": [
       "(0.0, 1.0)"
      ]
     },
     "execution_count": 16,
     "metadata": {},
     "output_type": "execute_result"
    },
    {
     "data": {
      "image/png": "[encoded data removed]",
      "text/plain": [
       "<Figure size 432x288 with 1 Axes>"
      ]
     },
     "metadata": {
      "needs_background": "light"
     },
     "output_type": "display_data"
    }
   ],
   "source": [
    "# Строим графики Precision - Recall по вычисленным самостоятельно значениям и по значениям, полученным встроенным методом\n",
    "plt.plot(my_re, my_pr, color='blue')\n",
    "plt.plot(re, pr, color='red', linestyle=':')\n",
    "plt.grid()\n",
    "plt.xlim(0,1)\n",
    "plt.ylim(0,1)"
   ]
  },
  {
   "cell_type": "markdown",
   "id": "fd194de2",
   "metadata": {},
   "source": [
    "Построенные графики график Precision - Recall совпадают."
   ]
  }
 ],
 "metadata": {
  "kernelspec": {
   "display_name": "Python 3",
   "language": "python",
   "name": "python3"
  },
  "language_info": {
   "codemirror_mode": {
    "name": "ipython",
    "version": 3
   },
   "file_extension": ".py",
   "mimetype": "text/x-python",
   "name": "python",
   "nbconvert_exporter": "python",
   "pygments_lexer": "ipython3",
   "version": "3.8.8"
  }
 },
 "nbformat": 4,
 "nbformat_minor": 5
}
