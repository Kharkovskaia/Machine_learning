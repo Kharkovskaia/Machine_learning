{
 "cells": [
  {
   "cell_type": "markdown",
   "metadata": {},
   "source": [
    "# Домашнее задание к занятию\n",
    "## \"Проблема качества данных\"\n",
    "Необходимо запустить практическую часть занятия, и посмотреть самому то, о чём говорили на лекции. По образу практики, попробуйте создать искусственный датасет с лишними столбцами. Целевую метку, при правильной обработке данных, формируйте таким образом, чтобы без затруднений её смогла описать линейная модель. Ориентируйтесь на то, что было показано во время занятия, и каждый шаг описывайте в markdown. Здесь важно видеть ваш ход мысли. Не бойтесь ошибиться или написать не то. Данное задание не имеет какого-то “правильного” решения. Цель - достичь базового понимания проблемы. Чем больше вы фантазируете, тем лучше :) Тем не менее, старайтесь представить те ситуации, которые по-вашему мнению могли бы быть в реальных данных. "
   ]
  },
  {
   "cell_type": "markdown",
   "metadata": {},
   "source": [
    "### Решение:"
   ]
  },
  {
   "cell_type": "markdown",
   "metadata": {},
   "source": [
    "Практическая часть занятия была запущена в соответствующем ноутбуке, в результате чего на практике убедилась, что работа с признаками очень важна при построении моделей. Грамотная обработка признаков позволяет значительно улучшить качество модели."
   ]
  },
  {
   "cell_type": "markdown",
   "metadata": {},
   "source": [
    "Далее создаем искусственный датасет с лишними столбцами.\n",
    "\n",
    "В создаваемом датасете содержится информация о студентах некого курса. Описание признаков приводится в коде при создании соответствующих значений. Целевая пременная - это информация о количестве набранных баллов студентом при написании финальной работы."
   ]
  },
  {
   "cell_type": "code",
   "execution_count": 1,
   "metadata": {},
   "outputs": [],
   "source": [
    "# Заружаем необходимые библиотеки\n",
    "import numpy as np\n",
    "import pandas as pd\n",
    "from sklearn.linear_model import LinearRegression\n",
    "from sklearn.metrics import mean_absolute_error"
   ]
  },
  {
   "cell_type": "code",
   "execution_count": 2,
   "metadata": {},
   "outputs": [
    {
     "data": {
      "text/html": [
       "<div>\n",
       "<style scoped>\n",
       "    .dataframe tbody tr th:only-of-type {\n",
       "        vertical-align: middle;\n",
       "    }\n",
       "\n",
       "    .dataframe tbody tr th {\n",
       "        vertical-align: top;\n",
       "    }\n",
       "\n",
       "    .dataframe thead th {\n",
       "        text-align: right;\n",
       "    }\n",
       "</style>\n",
       "<table border=\"1\" class=\"dataframe\">\n",
       "  <thead>\n",
       "    <tr style=\"text-align: right;\">\n",
       "      <th></th>\n",
       "      <th>average_rating</th>\n",
       "      <th>number_ratings</th>\n",
       "      <th>gender</th>\n",
       "      <th>age</th>\n",
       "      <th>number_visits</th>\n",
       "      <th>final_score</th>\n",
       "    </tr>\n",
       "  </thead>\n",
       "  <tbody>\n",
       "    <tr>\n",
       "      <th>0</th>\n",
       "      <td>8</td>\n",
       "      <td>8</td>\n",
       "      <td>1</td>\n",
       "      <td>51</td>\n",
       "      <td>95</td>\n",
       "      <td>77.5</td>\n",
       "    </tr>\n",
       "    <tr>\n",
       "      <th>1</th>\n",
       "      <td>10</td>\n",
       "      <td>10</td>\n",
       "      <td>1</td>\n",
       "      <td>59</td>\n",
       "      <td>69</td>\n",
       "      <td>100.5</td>\n",
       "    </tr>\n",
       "    <tr>\n",
       "      <th>2</th>\n",
       "      <td>5</td>\n",
       "      <td>11</td>\n",
       "      <td>0</td>\n",
       "      <td>20</td>\n",
       "      <td>53</td>\n",
       "      <td>45.5</td>\n",
       "    </tr>\n",
       "    <tr>\n",
       "      <th>3</th>\n",
       "      <td>2</td>\n",
       "      <td>12</td>\n",
       "      <td>1</td>\n",
       "      <td>64</td>\n",
       "      <td>71</td>\n",
       "      <td>25.5</td>\n",
       "    </tr>\n",
       "    <tr>\n",
       "      <th>4</th>\n",
       "      <td>4</td>\n",
       "      <td>5</td>\n",
       "      <td>1</td>\n",
       "      <td>50</td>\n",
       "      <td>97</td>\n",
       "      <td>34.5</td>\n",
       "    </tr>\n",
       "  </tbody>\n",
       "</table>\n",
       "</div>"
      ],
      "text/plain": [
       "   average_rating  number_ratings  gender  age  number_visits  final_score\n",
       "0               8               8       1   51             95         77.5\n",
       "1              10              10       1   59             69        100.5\n",
       "2               5              11       0   20             53         45.5\n",
       "3               2              12       1   64             71         25.5\n",
       "4               4               5       1   50             97         34.5"
      ]
     },
     "execution_count": 2,
     "metadata": {},
     "output_type": "execute_result"
    }
   ],
   "source": [
    "'''\n",
    "Создаем датасет\n",
    "Количество строк датасета\n",
    "'''\n",
    "n_samples = 1000 \n",
    "'''\n",
    "Средняя оценка студента по выполненным работам за время обучения на курсе.\n",
    "Оценивается по десятибальной шкале. \n",
    "При получении оценки 1 и выше работа считается сданной\n",
    "'''\n",
    "average_rating = np.random.choice(10, n_samples) + 1 \n",
    "'''\n",
    "Количество сданных работ\n",
    "'''\n",
    "number_ratings = np.random.choice(11, n_samples) + 5\n",
    "'''\n",
    "Пол студента, где 1 - женский пол, а 0 - мужской\n",
    "'''\n",
    "gender = np.random.choice(2, n_samples)\n",
    "'''\n",
    "Возраст студента курса\n",
    "'''\n",
    "age = np.random.choice(50, n_samples) + 18\n",
    "'''\n",
    "Число посещений занятий в процентах\n",
    "'''\n",
    "number_visits = np.random.choice(61, n_samples) + 40\n",
    "'''\n",
    "Количество баллов при написании финальной работы. Максимальное заначение - 166.\n",
    "По усмотрению преподавателя при неправильном ответе, но верных рассуждениях возможно ставить по половине балла, \n",
    "что сильно влияет на итоговую оценку при наличии многих \"половинных\" баллах \n",
    "и помогает улучшить оценку у невнимательных, но способных студентов. \n",
    "На итоговую оценку не влияет возраст, но немного влияет пол (личные предпочтения преподавателя).\n",
    "Данный показатель нелинейно зависит от средней оценки и количества сданных работ  \n",
    "'''\n",
    "final_score = average_rating * number_ratings + 2 * gender + number_visits / 2 - 36 # \n",
    "'''\n",
    "Объедняем данные в датасет\n",
    "'''\n",
    "data = pd.DataFrame({'average_rating': average_rating, 'number_ratings': number_ratings, 'gender': gender, \n",
    "                     'age': age, 'number_visits': number_visits, 'final_score': final_score})\n",
    "data.head(5)"
   ]
  },
  {
   "cell_type": "code",
   "execution_count": 3,
   "metadata": {},
   "outputs": [
    {
     "name": "stdout",
     "output_type": "stream",
     "text": [
      "Weights: [ 9.98283975e+00  5.42050181e+00  2.09330401e+00 -3.04469720e-03\n",
      "  5.13045732e-01]\n",
      "Bias: -90.86293580104689\n",
      "Error: 6.663099166734237\n"
     ]
    }
   ],
   "source": [
    "# Формируем модель машинного обучения для всех признаков\n",
    "X = data[['average_rating', 'number_ratings', 'gender', 'age', 'number_visits']]\n",
    "y = data['final_score']\n",
    "reg = LinearRegression().fit(X, y)\n",
    "# Выводим полученные коэффициенты\n",
    "print('Weights: {}'.format(reg.coef_))\n",
    "# Выводим полученное смещение\n",
    "print('Bias: {}'.format(reg.intercept_))\n",
    "# Строим предсказание\n",
    "pred_values = reg.predict(X)\n",
    "# Выводим среднюю абсолютную ошибку\n",
    "print('Error: {}'.format(mean_absolute_error(pred_values, y)))"
   ]
  },
  {
   "cell_type": "markdown",
   "metadata": {},
   "source": [
    "Из полученных данных видим, что в среднем наша модель ошибается на 7 баллов. Полученные коэффициенты у линейно зависмых параметров приблизительно совпадают (при большом допущении). Предсказнное смещение сильно отличается от заданного. Кроме того, у признака возраста студентов небольшой коэффициент, следовательно, данный признак не влияет или незначительно влияет на целевую переменную.\n",
    "\n",
    "Попробуем улучшить модель."
   ]
  },
  {
   "cell_type": "code",
   "execution_count": 4,
   "metadata": {},
   "outputs": [
    {
     "name": "stdout",
     "output_type": "stream",
     "text": [
      "Weights: [9.98236803 5.42104121 2.09272148 0.51306688]\n",
      "Bias: -90.99566461660564\n",
      "Error: 6.662746488904313\n"
     ]
    }
   ],
   "source": [
    "# Формируем модель машинного обучения без учета признака 'age' (возраст студента)\n",
    "# Предполагаем, что незначимость признака определили на основе анализа данных\n",
    "X = data[['average_rating', 'number_ratings', 'gender', 'number_visits']]\n",
    "y = data['final_score']\n",
    "reg = LinearRegression().fit(X, y)\n",
    "# Выводим полученные коэффициенты\n",
    "print('Weights: {}'.format(reg.coef_))\n",
    "# Выводим полученное смещение\n",
    "print('Bias: {}'.format(reg.intercept_))\n",
    "# Строим предсказание\n",
    "pred_values = reg.predict(X)\n",
    "# Выводим среднюю абсолютную ошибку\n",
    "print('Error: {}'.format(mean_absolute_error(pred_values, y)))"
   ]
  },
  {
   "cell_type": "markdown",
   "metadata": {},
   "source": [
    "Полученные значения для модели без учета признака, не влияющего на целевую переменную, практически не изменились. Следовательно, учитывать \"лишние\" признаки при формировании модели не требуется. "
   ]
  },
  {
   "cell_type": "markdown",
   "metadata": {},
   "source": [
    "Следующим шагом улучшения модели будет создание новых признаков. Первый новый признак не будет связан с зависимостью целевой переменной, которую мы создали. Второй признак указан при создании целевой переменной. Таким образом, мы увидим зависимость качества модели не только при создании нужных дополнительных признаков, но и тех, которые фактически не обладают теми качествами, которые мы предполагаем."
   ]
  },
  {
   "cell_type": "code",
   "execution_count": 5,
   "metadata": {},
   "outputs": [
    {
     "data": {
      "text/html": [
       "<div>\n",
       "<style scoped>\n",
       "    .dataframe tbody tr th:only-of-type {\n",
       "        vertical-align: middle;\n",
       "    }\n",
       "\n",
       "    .dataframe tbody tr th {\n",
       "        vertical-align: top;\n",
       "    }\n",
       "\n",
       "    .dataframe thead th {\n",
       "        text-align: right;\n",
       "    }\n",
       "</style>\n",
       "<table border=\"1\" class=\"dataframe\">\n",
       "  <thead>\n",
       "    <tr style=\"text-align: right;\">\n",
       "      <th></th>\n",
       "      <th>average_rating</th>\n",
       "      <th>number_ratings</th>\n",
       "      <th>gender</th>\n",
       "      <th>age</th>\n",
       "      <th>number_visits</th>\n",
       "      <th>final_score</th>\n",
       "      <th>mult_1</th>\n",
       "      <th>mult_2</th>\n",
       "    </tr>\n",
       "  </thead>\n",
       "  <tbody>\n",
       "    <tr>\n",
       "      <th>0</th>\n",
       "      <td>8</td>\n",
       "      <td>8</td>\n",
       "      <td>1</td>\n",
       "      <td>51</td>\n",
       "      <td>95</td>\n",
       "      <td>77.5</td>\n",
       "      <td>95</td>\n",
       "      <td>64</td>\n",
       "    </tr>\n",
       "    <tr>\n",
       "      <th>1</th>\n",
       "      <td>10</td>\n",
       "      <td>10</td>\n",
       "      <td>1</td>\n",
       "      <td>59</td>\n",
       "      <td>69</td>\n",
       "      <td>100.5</td>\n",
       "      <td>69</td>\n",
       "      <td>100</td>\n",
       "    </tr>\n",
       "    <tr>\n",
       "      <th>2</th>\n",
       "      <td>5</td>\n",
       "      <td>11</td>\n",
       "      <td>0</td>\n",
       "      <td>20</td>\n",
       "      <td>53</td>\n",
       "      <td>45.5</td>\n",
       "      <td>0</td>\n",
       "      <td>55</td>\n",
       "    </tr>\n",
       "    <tr>\n",
       "      <th>3</th>\n",
       "      <td>2</td>\n",
       "      <td>12</td>\n",
       "      <td>1</td>\n",
       "      <td>64</td>\n",
       "      <td>71</td>\n",
       "      <td>25.5</td>\n",
       "      <td>71</td>\n",
       "      <td>24</td>\n",
       "    </tr>\n",
       "    <tr>\n",
       "      <th>4</th>\n",
       "      <td>4</td>\n",
       "      <td>5</td>\n",
       "      <td>1</td>\n",
       "      <td>50</td>\n",
       "      <td>97</td>\n",
       "      <td>34.5</td>\n",
       "      <td>97</td>\n",
       "      <td>20</td>\n",
       "    </tr>\n",
       "  </tbody>\n",
       "</table>\n",
       "</div>"
      ],
      "text/plain": [
       "   average_rating  number_ratings  gender  age  number_visits  final_score  \\\n",
       "0               8               8       1   51             95         77.5   \n",
       "1              10              10       1   59             69        100.5   \n",
       "2               5              11       0   20             53         45.5   \n",
       "3               2              12       1   64             71         25.5   \n",
       "4               4               5       1   50             97         34.5   \n",
       "\n",
       "   mult_1  mult_2  \n",
       "0      95      64  \n",
       "1      69     100  \n",
       "2       0      55  \n",
       "3      71      24  \n",
       "4      97      20  "
      ]
     },
     "execution_count": 5,
     "metadata": {},
     "output_type": "execute_result"
    }
   ],
   "source": [
    "# Создаем новые признаки\n",
    "data['mult_1'] = data['number_visits'] * data['gender']\n",
    "data['mult_2'] = data['average_rating'] * data['number_ratings']\n",
    "data.head(5)"
   ]
  },
  {
   "cell_type": "code",
   "execution_count": 6,
   "metadata": {},
   "outputs": [
    {
     "name": "stdout",
     "output_type": "stream",
     "text": [
      "Weights: [9.98012736 5.42402283 0.50673456 0.50140653 0.02280451]\n",
      "Bias: -90.20527132247224\n",
      "Error: 6.656732807397353\n"
     ]
    }
   ],
   "source": [
    "# Формируем модель машинного обучения без учета признака 'age' (возраст студента) и с первым созданным признаком\n",
    "X = data[['average_rating', 'number_ratings', 'gender', 'number_visits', 'mult_1']]\n",
    "y = data['final_score']\n",
    "reg = LinearRegression().fit(X, y)\n",
    "# Выводим полученные коэффициенты\n",
    "print('Weights: {}'.format(reg.coef_))\n",
    "# Выводим полученное смещение\n",
    "print('Bias: {}'.format(reg.intercept_))\n",
    "# Строим предсказание\n",
    "pred_values = reg.predict(X)\n",
    "# Выводим среднюю абсолютную ошибку\n",
    "print('Error: {}'.format(mean_absolute_error(pred_values, y)))"
   ]
  },
  {
   "cell_type": "markdown",
   "metadata": {},
   "source": [
    "Полученные значения для модели с созданным признаком, который не описывает реальные закономерности, незначительно изменились. Следовательно, при создании новых признаков требуется понимать их действительное влияние на целевую переменную."
   ]
  },
  {
   "cell_type": "code",
   "execution_count": 7,
   "metadata": {},
   "outputs": [
    {
     "name": "stdout",
     "output_type": "stream",
     "text": [
      "Weights: [-1.02842493e-15  3.10862447e-15  2.00000000e+00  5.00000000e-01\n",
      "  1.00000000e+00]\n",
      "Bias: -36.00000000000008\n",
      "Error: 2.276223654007481e-14\n"
     ]
    }
   ],
   "source": [
    "# Формируем модель машинного обучения без учета признака 'age' (возраст студента) и со вторым созданным признаком\n",
    "X = data[['average_rating', 'number_ratings', 'gender', 'number_visits', 'mult_2']]\n",
    "y = data['final_score']\n",
    "reg = LinearRegression().fit(X, y)\n",
    "# Выводим полученные коэффициенты\n",
    "print('Weights: {}'.format(reg.coef_))\n",
    "# Выводим полученное смещение\n",
    "print('Bias: {}'.format(reg.intercept_))\n",
    "# Строим предсказание\n",
    "pred_values = reg.predict(X)\n",
    "# Выводим среднюю абсолютную ошибку\n",
    "print('Error: {}'.format(mean_absolute_error(pred_values, y)))"
   ]
  },
  {
   "cell_type": "markdown",
   "metadata": {},
   "source": [
    "Из полученных значений видим, что качество модели значительно улучшилось. Возникающая ошибка минимальна. Создание и использование нового признака, реально описывающего целевую переменную, позволило создать модель, которая достаточно точно уловила существующую закономерность. \n",
    "\n",
    "Обращаем внимание, что первые два признака обладают малыми коэффициентами, следовательно, ими можно пренебречь при формировании модели."
   ]
  },
  {
   "cell_type": "code",
   "execution_count": 8,
   "metadata": {},
   "outputs": [
    {
     "name": "stdout",
     "output_type": "stream",
     "text": [
      "Weights: [2.  0.5 1. ]\n",
      "Bias: -35.99999999999992\n",
      "Error: 1.77315939708933e-14\n"
     ]
    }
   ],
   "source": [
    "# Формируем итоговую модель машинного обучения на основании ранее указнных фактов\n",
    "X = data[['gender', 'number_visits', 'mult_2']]\n",
    "y = data['final_score']\n",
    "reg = LinearRegression().fit(X, y)\n",
    "# Выводим полученные коэффициенты\n",
    "print('Weights: {}'.format(reg.coef_))\n",
    "# Выводим полученное смещение\n",
    "print('Bias: {}'.format(reg.intercept_))\n",
    "# Строим предсказание\n",
    "pred_values = reg.predict(X)\n",
    "# Выводим среднюю абсолютную ошибку\n",
    "print('Error: {}'.format(mean_absolute_error(pred_values, y)))"
   ]
  },
  {
   "cell_type": "markdown",
   "metadata": {},
   "source": [
    "Итоговая модель достаточно полно описывает целевую переменную на основании данных и отображает ту зависимоть целевой переменной, которую мы задали."
   ]
  }
 ],
 "metadata": {
  "kernelspec": {
   "display_name": "Python 3",
   "language": "python",
   "name": "python3"
  },
  "language_info": {
   "codemirror_mode": {
    "name": "ipython",
    "version": 3
   },
   "file_extension": ".py",
   "mimetype": "text/x-python",
   "name": "python",
   "nbconvert_exporter": "python",
   "pygments_lexer": "ipython3",
   "version": "3.6.5"
  }
 },
 "nbformat": 4,
 "nbformat_minor": 2
}
