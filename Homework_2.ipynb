{
 "cells": [
  {
   "cell_type": "markdown",
   "id": "dae2342a",
   "metadata": {},
   "source": [
    "# Домашнее задание к занятию\n",
    "## \"Функции потерь и оптимизация\""
   ]
  },
  {
   "cell_type": "markdown",
   "id": "8d1412f9",
   "metadata": {},
   "source": [
    "- Прочитать про методы оптимизации для нейронных сетей https://habr.com/post/318970/\n",
    "- Реализовать самостоятельно логистическую регрессию\n",
    "- Обучить ее методом градиентного спуска\n",
    "- Методом nesterov momentum\n",
    "- Методом rmsprop"
   ]
  },
  {
   "cell_type": "markdown",
   "id": "9fcc36dd",
   "metadata": {},
   "source": [
    "### Дополнительное задание *\n",
    "В качестве dataset’а взять Iris, оставив 2 класса:\n",
    "Iris Versicolor\n",
    "Iris Virginica"
   ]
  },
  {
   "cell_type": "code",
   "execution_count": 1,
   "id": "0efa329c",
   "metadata": {},
   "outputs": [],
   "source": [
    "# Загружаем необходимые библиотеки\n",
    "from sklearn import datasets\n",
    "from sklearn.linear_model import LogisticRegression\n",
    "import pandas as pd\n",
    "from sklearn.model_selection import train_test_split \n",
    "import numpy as np\n",
    "from sklearn.preprocessing import LabelEncoder\n",
    "import math"
   ]
  },
  {
   "cell_type": "code",
   "execution_count": 2,
   "id": "2e0a09ef",
   "metadata": {},
   "outputs": [
    {
     "data": {
      "text/html": [
       "<div>\n",
       "<style scoped>\n",
       "    .dataframe tbody tr th:only-of-type {\n",
       "        vertical-align: middle;\n",
       "    }\n",
       "\n",
       "    .dataframe tbody tr th {\n",
       "        vertical-align: top;\n",
       "    }\n",
       "\n",
       "    .dataframe thead th {\n",
       "        text-align: right;\n",
       "    }\n",
       "</style>\n",
       "<table border=\"1\" class=\"dataframe\">\n",
       "  <thead>\n",
       "    <tr style=\"text-align: right;\">\n",
       "      <th></th>\n",
       "      <th>sepal length (cm)</th>\n",
       "      <th>sepal width (cm)</th>\n",
       "      <th>petal length (cm)</th>\n",
       "      <th>petal width (cm)</th>\n",
       "      <th>target</th>\n",
       "      <th>name</th>\n",
       "    </tr>\n",
       "  </thead>\n",
       "  <tbody>\n",
       "    <tr>\n",
       "      <th>0</th>\n",
       "      <td>5.1</td>\n",
       "      <td>3.5</td>\n",
       "      <td>1.4</td>\n",
       "      <td>0.2</td>\n",
       "      <td>0</td>\n",
       "      <td>setosa</td>\n",
       "    </tr>\n",
       "    <tr>\n",
       "      <th>1</th>\n",
       "      <td>4.9</td>\n",
       "      <td>3.0</td>\n",
       "      <td>1.4</td>\n",
       "      <td>0.2</td>\n",
       "      <td>0</td>\n",
       "      <td>setosa</td>\n",
       "    </tr>\n",
       "    <tr>\n",
       "      <th>2</th>\n",
       "      <td>4.7</td>\n",
       "      <td>3.2</td>\n",
       "      <td>1.3</td>\n",
       "      <td>0.2</td>\n",
       "      <td>0</td>\n",
       "      <td>setosa</td>\n",
       "    </tr>\n",
       "    <tr>\n",
       "      <th>3</th>\n",
       "      <td>4.6</td>\n",
       "      <td>3.1</td>\n",
       "      <td>1.5</td>\n",
       "      <td>0.2</td>\n",
       "      <td>0</td>\n",
       "      <td>setosa</td>\n",
       "    </tr>\n",
       "    <tr>\n",
       "      <th>4</th>\n",
       "      <td>5.0</td>\n",
       "      <td>3.6</td>\n",
       "      <td>1.4</td>\n",
       "      <td>0.2</td>\n",
       "      <td>0</td>\n",
       "      <td>setosa</td>\n",
       "    </tr>\n",
       "  </tbody>\n",
       "</table>\n",
       "</div>"
      ],
      "text/plain": [
       "   sepal length (cm)  sepal width (cm)  petal length (cm)  petal width (cm)  \\\n",
       "0                5.1               3.5                1.4               0.2   \n",
       "1                4.9               3.0                1.4               0.2   \n",
       "2                4.7               3.2                1.3               0.2   \n",
       "3                4.6               3.1                1.5               0.2   \n",
       "4                5.0               3.6                1.4               0.2   \n",
       "\n",
       "   target    name  \n",
       "0       0  setosa  \n",
       "1       0  setosa  \n",
       "2       0  setosa  \n",
       "3       0  setosa  \n",
       "4       0  setosa  "
      ]
     },
     "execution_count": 2,
     "metadata": {},
     "output_type": "execute_result"
    }
   ],
   "source": [
    "# Загружаем датасет Iris\n",
    "iris = datasets.load_iris()\n",
    "df_iris = pd.DataFrame(iris.data, columns=iris.feature_names)\n",
    "df_iris['target'] = iris.target\n",
    "df_iris['name'] = df_iris.target.apply(lambda x : iris.target_names[x])\n",
    "df_iris.head()"
   ]
  },
  {
   "cell_type": "code",
   "execution_count": 3,
   "id": "5423cfaf",
   "metadata": {},
   "outputs": [
    {
     "name": "stdout",
     "output_type": "stream",
     "text": [
      "<class 'pandas.core.frame.DataFrame'>\n",
      "RangeIndex: 150 entries, 0 to 149\n",
      "Data columns (total 6 columns):\n",
      " #   Column             Non-Null Count  Dtype  \n",
      "---  ------             --------------  -----  \n",
      " 0   sepal length (cm)  150 non-null    float64\n",
      " 1   sepal width (cm)   150 non-null    float64\n",
      " 2   petal length (cm)  150 non-null    float64\n",
      " 3   petal width (cm)   150 non-null    float64\n",
      " 4   target             150 non-null    int32  \n",
      " 5   name               150 non-null    object \n",
      "dtypes: float64(4), int32(1), object(1)\n",
      "memory usage: 6.6+ KB\n"
     ]
    }
   ],
   "source": [
    "# Получаем основную информацию о данных в откорректированном датасете\n",
    "df_iris.info()"
   ]
  },
  {
   "cell_type": "code",
   "execution_count": 4,
   "id": "73f5cfca",
   "metadata": {},
   "outputs": [
    {
     "data": {
      "text/plain": [
       "virginica     50\n",
       "versicolor    50\n",
       "setosa        50\n",
       "Name: name, dtype: int64"
      ]
     },
     "execution_count": 4,
     "metadata": {},
     "output_type": "execute_result"
    }
   ],
   "source": [
    "df_iris['name'].value_counts()"
   ]
  },
  {
   "cell_type": "markdown",
   "id": "a7b33dea",
   "metadata": {},
   "source": [
    "Пропущенные значения отстствуют."
   ]
  },
  {
   "cell_type": "code",
   "execution_count": 5,
   "id": "6645f147",
   "metadata": {},
   "outputs": [
    {
     "data": {
      "text/html": [
       "<div>\n",
       "<style scoped>\n",
       "    .dataframe tbody tr th:only-of-type {\n",
       "        vertical-align: middle;\n",
       "    }\n",
       "\n",
       "    .dataframe tbody tr th {\n",
       "        vertical-align: top;\n",
       "    }\n",
       "\n",
       "    .dataframe thead th {\n",
       "        text-align: right;\n",
       "    }\n",
       "</style>\n",
       "<table border=\"1\" class=\"dataframe\">\n",
       "  <thead>\n",
       "    <tr style=\"text-align: right;\">\n",
       "      <th></th>\n",
       "      <th>sepal length (cm)</th>\n",
       "      <th>sepal width (cm)</th>\n",
       "      <th>petal length (cm)</th>\n",
       "      <th>petal width (cm)</th>\n",
       "      <th>target</th>\n",
       "      <th>name</th>\n",
       "    </tr>\n",
       "  </thead>\n",
       "  <tbody>\n",
       "    <tr>\n",
       "      <th>50</th>\n",
       "      <td>7.0</td>\n",
       "      <td>3.2</td>\n",
       "      <td>4.7</td>\n",
       "      <td>1.4</td>\n",
       "      <td>1</td>\n",
       "      <td>versicolor</td>\n",
       "    </tr>\n",
       "    <tr>\n",
       "      <th>51</th>\n",
       "      <td>6.4</td>\n",
       "      <td>3.2</td>\n",
       "      <td>4.5</td>\n",
       "      <td>1.5</td>\n",
       "      <td>1</td>\n",
       "      <td>versicolor</td>\n",
       "    </tr>\n",
       "    <tr>\n",
       "      <th>52</th>\n",
       "      <td>6.9</td>\n",
       "      <td>3.1</td>\n",
       "      <td>4.9</td>\n",
       "      <td>1.5</td>\n",
       "      <td>1</td>\n",
       "      <td>versicolor</td>\n",
       "    </tr>\n",
       "    <tr>\n",
       "      <th>53</th>\n",
       "      <td>5.5</td>\n",
       "      <td>2.3</td>\n",
       "      <td>4.0</td>\n",
       "      <td>1.3</td>\n",
       "      <td>1</td>\n",
       "      <td>versicolor</td>\n",
       "    </tr>\n",
       "    <tr>\n",
       "      <th>54</th>\n",
       "      <td>6.5</td>\n",
       "      <td>2.8</td>\n",
       "      <td>4.6</td>\n",
       "      <td>1.5</td>\n",
       "      <td>1</td>\n",
       "      <td>versicolor</td>\n",
       "    </tr>\n",
       "  </tbody>\n",
       "</table>\n",
       "</div>"
      ],
      "text/plain": [
       "    sepal length (cm)  sepal width (cm)  petal length (cm)  petal width (cm)  \\\n",
       "50                7.0               3.2                4.7               1.4   \n",
       "51                6.4               3.2                4.5               1.5   \n",
       "52                6.9               3.1                4.9               1.5   \n",
       "53                5.5               2.3                4.0               1.3   \n",
       "54                6.5               2.8                4.6               1.5   \n",
       "\n",
       "    target        name  \n",
       "50       1  versicolor  \n",
       "51       1  versicolor  \n",
       "52       1  versicolor  \n",
       "53       1  versicolor  \n",
       "54       1  versicolor  "
      ]
     },
     "execution_count": 5,
     "metadata": {},
     "output_type": "execute_result"
    }
   ],
   "source": [
    "# Для дальнейшей работе оставляем два класса: Iris Versicolor и Iris Virginica\n",
    "df_iris = df_iris.loc[df_iris['name'].isin(['virginica', 'versicolor'])]\n",
    "df_iris.head()"
   ]
  },
  {
   "cell_type": "code",
   "execution_count": 6,
   "id": "73c2ba28",
   "metadata": {},
   "outputs": [],
   "source": [
    "# Разделим целевую переменную и данные, по которым будет осуществляться предсказание\n",
    "le = LabelEncoder()\n",
    "le.fit(df_iris['target'])\n",
    "df_iris['target'] = le.transform(df_iris['target'])\n",
    "y = pd.Series(df_iris['target'])\n",
    "df_iris.pop('name')\n",
    "df_iris.pop('target')\n",
    "X = df_iris"
   ]
  },
  {
   "cell_type": "code",
   "execution_count": 7,
   "id": "c82c78fc",
   "metadata": {},
   "outputs": [],
   "source": [
    "# Разделим данные на обучающие и тестовые выборки\n",
    "X_train, X_test, y_train, y_test = train_test_split(X, y, test_size=0.3, random_state=42)"
   ]
  },
  {
   "cell_type": "code",
   "execution_count": 8,
   "id": "49772039",
   "metadata": {},
   "outputs": [],
   "source": [
    "# Создадим модель логистической регрессии\n",
    "model_1 = LogisticRegression()"
   ]
  },
  {
   "cell_type": "code",
   "execution_count": 9,
   "id": "25caf7c6",
   "metadata": {},
   "outputs": [],
   "source": [
    "# Обучаем на тренировочной части датасета и строим предсказание\n",
    "model_1.fit(X_train, y_train)\n",
    "predictions = model_1.predict(X_test)"
   ]
  },
  {
   "cell_type": "code",
   "execution_count": 10,
   "id": "ace6d37f",
   "metadata": {},
   "outputs": [
    {
     "data": {
      "text/plain": [
       "0.9333333333333333"
      ]
     },
     "execution_count": 10,
     "metadata": {},
     "output_type": "execute_result"
    }
   ],
   "source": [
    "# Выведем качество полученной модели на тестовой выборке\n",
    "model_1.score(X_test,y_test)"
   ]
  },
  {
   "cell_type": "code",
   "execution_count": 11,
   "id": "fe2fbf0c",
   "metadata": {},
   "outputs": [],
   "source": [
    "#  Функция по вероятности события предсказывает класс 0 или 1 по указанному пороговому значению вероятности\n",
    "def prediction(pred, item):\n",
    "        if pred >= item:\n",
    "            return 1\n",
    "        else:\n",
    "            return 0"
   ]
  },
  {
   "cell_type": "code",
   "execution_count": 12,
   "id": "c743cc5b",
   "metadata": {},
   "outputs": [],
   "source": [
    "# Функция прогнозирует значения целевой переменной\n",
    "def my_prediction(params, X):\n",
    "    return 1 / (1 + np.e ** ((-1) * (params[0] + params[1] * X['sepal length (cm)'] \n",
    "    + params[2] * X['sepal width (cm)'] + params[3] * X['petal length (cm)'] \n",
    "    + params[4] * X['petal width (cm)']))) "
   ]
  },
  {
   "cell_type": "markdown",
   "id": "b6f88065",
   "metadata": {},
   "source": [
    "### Метод градиентного спуска"
   ]
  },
  {
   "cell_type": "code",
   "execution_count": 13,
   "id": "718a6f26",
   "metadata": {},
   "outputs": [],
   "source": [
    "# Задаём исходные данные\n",
    "lr = 0.1\n",
    "n_epochs = 50\n",
    "params = []\n",
    "params = np.random.normal(size=(5,))"
   ]
  },
  {
   "cell_type": "code",
   "execution_count": 14,
   "id": "bddbb9a3",
   "metadata": {},
   "outputs": [],
   "source": [
    "# Осуществляем градиентный спуск для нашей модели\n",
    "for epoch in range(n_epochs):\n",
    "    predictions_demo = my_prediction(params, X_train)\n",
    "    params[0] -= lr * np.sum(predictions_demo - y_train) / len(predictions_demo)\n",
    "    number = 1\n",
    "    for i in X_train:\n",
    "        params[number] -= lr * np.sum((predictions_demo - y_train) * X_train[i]) / len(predictions_demo)\n",
    "        number += 1\n",
    "    predictions = my_prediction(params, X_train).apply(prediction, item=0.5)"
   ]
  },
  {
   "cell_type": "code",
   "execution_count": 15,
   "id": "36563f16",
   "metadata": {},
   "outputs": [
    {
     "data": {
      "text/plain": [
       "0.9142857142857143"
      ]
     },
     "execution_count": 15,
     "metadata": {},
     "output_type": "execute_result"
    }
   ],
   "source": [
    "# Определим долю верных ответов на тренировочной выборке\n",
    "pred = my_prediction(params, X_train)\n",
    "new_pred = pred.apply(prediction, item=0.5)\n",
    "1 - np.sum(abs(new_pred - y_train)) / len(y_train)"
   ]
  },
  {
   "cell_type": "code",
   "execution_count": 16,
   "id": "7105a837",
   "metadata": {},
   "outputs": [
    {
     "data": {
      "text/plain": [
       "0.8666666666666667"
      ]
     },
     "execution_count": 16,
     "metadata": {},
     "output_type": "execute_result"
    }
   ],
   "source": [
    "# Определим долю верных ответов на тестовой выборке\n",
    "pred = my_prediction(params, X_test)\n",
    "new_pred = pred.apply(prediction, item=0.5)\n",
    "1 - np.sum(abs(new_pred - y_test)) / len(y_test)"
   ]
  },
  {
   "cell_type": "markdown",
   "id": "9be96757",
   "metadata": {},
   "source": [
    "### Nesterov momentum"
   ]
  },
  {
   "cell_type": "code",
   "execution_count": 17,
   "id": "6f09948c",
   "metadata": {},
   "outputs": [],
   "source": [
    "# Задаём исходные данные\n",
    "lr = 0.1\n",
    "n_epochs = 50\n",
    "params = []\n",
    "params = np.random.normal(size=(5,))\n",
    "gamma = 0.9\n",
    "u_0 = new_u_0 = 0\n",
    "u = new_u = [0, 0, 0, 0, 0]"
   ]
  },
  {
   "cell_type": "code",
   "execution_count": 18,
   "id": "1890a7d4",
   "metadata": {},
   "outputs": [],
   "source": [
    "# Nesterov momentum для нашей модели\n",
    "for epoch in range(n_epochs):\n",
    "    predictions_demo = my_prediction(params, X_train)\n",
    "    new_u_0 = u_0 * gamma + (1 - gamma) * lr * np.sum(predictions_demo - y_train) / len(predictions_demo)\n",
    "    number = 0\n",
    "    for i in X_train:\n",
    "        new_u[number] = u[number] * gamma + (1 - gamma) * lr * np.sum((predictions_demo - y_train) * X_train[i])\n",
    "        number += 1\n",
    "    for i in range(len(params)):\n",
    "        if i == 0:\n",
    "            params[i] -= new_u_0\n",
    "        else:\n",
    "            params[i] -= new_u[i-1]\n",
    "    u_0 = new_u_0\n",
    "    u = new_u\n",
    "    predictions = my_prediction(params, X_train).apply(prediction, item=0.5)"
   ]
  },
  {
   "cell_type": "code",
   "execution_count": 19,
   "id": "8395de6b",
   "metadata": {},
   "outputs": [
    {
     "data": {
      "text/plain": [
       "0.9714285714285714"
      ]
     },
     "execution_count": 19,
     "metadata": {},
     "output_type": "execute_result"
    }
   ],
   "source": [
    "# Определим долю верных ответов на тренировочной выборке\n",
    "pred = my_prediction(params, X_train)\n",
    "new_pred = pred.apply(prediction, item=0.5)\n",
    "1 - np.sum(abs(new_pred - y_train)) / len(y_train)"
   ]
  },
  {
   "cell_type": "code",
   "execution_count": 20,
   "id": "12bd38c2",
   "metadata": {},
   "outputs": [
    {
     "data": {
      "text/plain": [
       "0.9333333333333333"
      ]
     },
     "execution_count": 20,
     "metadata": {},
     "output_type": "execute_result"
    }
   ],
   "source": [
    "# Определим долю верных ответов на тестовой выборке\n",
    "pred = my_prediction(params, X_test)\n",
    "new_pred = pred.apply(prediction, item=0.5)\n",
    "1 - np.sum(abs(new_pred - y_test)) / len(y_test)"
   ]
  },
  {
   "cell_type": "markdown",
   "id": "d85e1a8e",
   "metadata": {},
   "source": [
    "### RMSProp"
   ]
  },
  {
   "cell_type": "code",
   "execution_count": 21,
   "id": "354b019b",
   "metadata": {},
   "outputs": [],
   "source": [
    "# Задаём исходные данные\n",
    "lr = 0.1\n",
    "n_epochs = 50\n",
    "params = []\n",
    "params = np.random.normal(size=(5,))\n",
    "gamma = 0.9\n",
    "eps = 0.000001\n",
    "grad_square = np.zeros(5)"
   ]
  },
  {
   "cell_type": "code",
   "execution_count": 22,
   "id": "298b12d3",
   "metadata": {},
   "outputs": [],
   "source": [
    "for epoch in range(n_epochs):\n",
    "    predictions_demo = my_prediction(params, X_train)\n",
    "    grad_0 = np.sum((predictions_demo - y_train)) / len(predictions_demo)\n",
    "    grad_1 = np.dot((predictions_demo - y_train), X_train) / len(predictions_demo)\n",
    "    grad = np.hstack((np.array(grad_0), grad_1))\n",
    "    grad_square = gamma * grad_square + (1 - gamma)  * grad ** 2\n",
    "    params -= lr * grad / np.sqrt(grad_square + eps)\n",
    "    predictions = my_prediction(params, X_train).apply(prediction, item=0.5)"
   ]
  },
  {
   "cell_type": "code",
   "execution_count": 23,
   "id": "ffc34228",
   "metadata": {},
   "outputs": [
    {
     "data": {
      "text/plain": [
       "0.7142857142857143"
      ]
     },
     "execution_count": 23,
     "metadata": {},
     "output_type": "execute_result"
    }
   ],
   "source": [
    "# Определим долю верных ответов на тренировочной выборке\n",
    "pred = my_prediction(params, X_train)\n",
    "new_pred = pred.apply(prediction, item=0.5)\n",
    "1 - np.sum(abs(new_pred - y_train)) / len(y_train)"
   ]
  },
  {
   "cell_type": "code",
   "execution_count": 24,
   "id": "292d6446",
   "metadata": {},
   "outputs": [
    {
     "data": {
      "text/plain": [
       "0.6666666666666667"
      ]
     },
     "execution_count": 24,
     "metadata": {},
     "output_type": "execute_result"
    }
   ],
   "source": [
    "# Определим долю верных ответов на тестовой выборке\n",
    "pred = my_prediction(params, X_test)\n",
    "new_pred = pred.apply(prediction, item=0.5)\n",
    "1 - np.sum(abs(new_pred - y_test)) / len(y_test)"
   ]
  }
 ],
 "metadata": {
  "kernelspec": {
   "display_name": "Python 3",
   "language": "python",
   "name": "python3"
  },
  "language_info": {
   "codemirror_mode": {
    "name": "ipython",
    "version": 3
   },
   "file_extension": ".py",
   "mimetype": "text/x-python",
   "name": "python",
   "nbconvert_exporter": "python",
   "pygments_lexer": "ipython3",
   "version": "3.8.8"
  }
 },
 "nbformat": 4,
 "nbformat_minor": 5
}
